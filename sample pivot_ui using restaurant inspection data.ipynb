{
 "cells": [
  {
   "cell_type": "code",
   "execution_count": 5,
   "metadata": {
    "collapsed": true
   },
   "outputs": [],
   "source": [
    "import pandas as pd\n",
    "import numpy as np\n",
    "from pivottablejs import pivot_ui\n"
   ]
  },
  {
   "cell_type": "code",
   "execution_count": 7,
   "metadata": {
    "collapsed": false
   },
   "outputs": [],
   "source": [
    "df=pd.read_csv(\"c:/users/Bill/downloads/Restaurant_Inspection_Scores.csv\")"
   ]
  },
  {
   "cell_type": "code",
   "execution_count": 8,
   "metadata": {
    "collapsed": false
   },
   "outputs": [
    {
     "data": {
      "text/html": [
       "<div>\n",
       "<style>\n",
       "    .dataframe thead tr:only-child th {\n",
       "        text-align: right;\n",
       "    }\n",
       "\n",
       "    .dataframe thead th {\n",
       "        text-align: left;\n",
       "    }\n",
       "\n",
       "    .dataframe tbody tr th {\n",
       "        vertical-align: top;\n",
       "    }\n",
       "</style>\n",
       "<table border=\"1\" class=\"dataframe\">\n",
       "  <thead>\n",
       "    <tr style=\"text-align: right;\">\n",
       "      <th></th>\n",
       "      <th>Restaurant Name</th>\n",
       "      <th>Zip Code</th>\n",
       "      <th>Inspection Date</th>\n",
       "      <th>Score</th>\n",
       "      <th>Address</th>\n",
       "      <th>Facility ID</th>\n",
       "      <th>Process Description</th>\n",
       "    </tr>\n",
       "  </thead>\n",
       "  <tbody>\n",
       "    <tr>\n",
       "      <th>0</th>\n",
       "      <td>William Elementary</td>\n",
       "      <td>78748</td>\n",
       "      <td>03/24/2016</td>\n",
       "      <td>98</td>\n",
       "      <td>500 MAIRO ST\\nAUSTIN, TX 78748\\n(30.180469, -9...</td>\n",
       "      <td>2800289</td>\n",
       "      <td>Routine Inspection</td>\n",
       "    </tr>\n",
       "    <tr>\n",
       "      <th>1</th>\n",
       "      <td>Xian Sushi and Noodle</td>\n",
       "      <td>78723</td>\n",
       "      <td>01/26/2017</td>\n",
       "      <td>73</td>\n",
       "      <td>1801 E 51ST ST Bldg C\\nAUSTIN, TX 78723\\n(30.3...</td>\n",
       "      <td>11061849</td>\n",
       "      <td>Routine Inspection</td>\n",
       "    </tr>\n",
       "    <tr>\n",
       "      <th>2</th>\n",
       "      <td>Wild Wood Bakehouse</td>\n",
       "      <td>78705</td>\n",
       "      <td>08/06/2015</td>\n",
       "      <td>93</td>\n",
       "      <td>3016 GUADALUPE ST\\nAUSTIN, TX 78705\\n(30.29769...</td>\n",
       "      <td>10804059</td>\n",
       "      <td>Routine Inspection</td>\n",
       "    </tr>\n",
       "    <tr>\n",
       "      <th>3</th>\n",
       "      <td>Zeta Tau  Alpha Sorority</td>\n",
       "      <td>78705</td>\n",
       "      <td>01/21/2015</td>\n",
       "      <td>91</td>\n",
       "      <td>2711 NUECES ST\\nAUSTIN, TX 78705\\n(30.292917, ...</td>\n",
       "      <td>2800484</td>\n",
       "      <td>Routine Inspection</td>\n",
       "    </tr>\n",
       "    <tr>\n",
       "      <th>4</th>\n",
       "      <td>Wright Bros. Brew and Brew</td>\n",
       "      <td>78702</td>\n",
       "      <td>06/28/2016</td>\n",
       "      <td>91</td>\n",
       "      <td>500 SAN MARCOS ST\\nAUSTIN, TX 78702\\n(30.26447...</td>\n",
       "      <td>11008232</td>\n",
       "      <td>Routine Inspection</td>\n",
       "    </tr>\n",
       "  </tbody>\n",
       "</table>\n",
       "</div>"
      ],
      "text/plain": [
       "              Restaurant Name Zip Code Inspection Date  Score  \\\n",
       "0          William Elementary    78748      03/24/2016     98   \n",
       "1       Xian Sushi and Noodle    78723      01/26/2017     73   \n",
       "2         Wild Wood Bakehouse    78705      08/06/2015     93   \n",
       "3    Zeta Tau  Alpha Sorority    78705      01/21/2015     91   \n",
       "4  Wright Bros. Brew and Brew    78702      06/28/2016     91   \n",
       "\n",
       "                                             Address  Facility ID  \\\n",
       "0  500 MAIRO ST\\nAUSTIN, TX 78748\\n(30.180469, -9...      2800289   \n",
       "1  1801 E 51ST ST Bldg C\\nAUSTIN, TX 78723\\n(30.3...     11061849   \n",
       "2  3016 GUADALUPE ST\\nAUSTIN, TX 78705\\n(30.29769...     10804059   \n",
       "3  2711 NUECES ST\\nAUSTIN, TX 78705\\n(30.292917, ...      2800484   \n",
       "4  500 SAN MARCOS ST\\nAUSTIN, TX 78702\\n(30.26447...     11008232   \n",
       "\n",
       "  Process Description  \n",
       "0  Routine Inspection  \n",
       "1  Routine Inspection  \n",
       "2  Routine Inspection  \n",
       "3  Routine Inspection  \n",
       "4  Routine Inspection  "
      ]
     },
     "execution_count": 8,
     "metadata": {},
     "output_type": "execute_result"
    }
   ],
   "source": [
    "df.head()\n"
   ]
  },
  {
   "cell_type": "code",
   "execution_count": 9,
   "metadata": {
    "collapsed": false
   },
   "outputs": [
    {
     "data": {
      "text/html": [
       "\n",
       "        <iframe\n",
       "            width=\"100%\"\n",
       "            height=\"500\"\n",
       "            src=\"pivottablejs.html\"\n",
       "            frameborder=\"0\"\n",
       "            allowfullscreen\n",
       "        ></iframe>\n",
       "        "
      ],
      "text/plain": [
       "<IPython.lib.display.IFrame at 0x23b36035f60>"
      ]
     },
     "execution_count": 9,
     "metadata": {},
     "output_type": "execute_result"
    }
   ],
   "source": [
    "pivot_ui(df)"
   ]
  },
  {
   "cell_type": "code",
   "execution_count": 11,
   "metadata": {
    "collapsed": false
   },
   "outputs": [],
   "source": [
    "df['bin_score']=pd.cut(df.Score,bins=np.arange(30,105,5))"
   ]
  },
  {
   "cell_type": "code",
   "execution_count": 13,
   "metadata": {
    "collapsed": false
   },
   "outputs": [
    {
     "data": {
      "text/html": [
       "\n",
       "        <iframe\n",
       "            width=\"100%\"\n",
       "            height=\"500\"\n",
       "            src=\"pivottablejs.html\"\n",
       "            frameborder=\"0\"\n",
       "            allowfullscreen\n",
       "        ></iframe>\n",
       "        "
      ],
      "text/plain": [
       "<IPython.lib.display.IFrame at 0x23b38941cc0>"
      ]
     },
     "execution_count": 13,
     "metadata": {},
     "output_type": "execute_result"
    }
   ],
   "source": [
    "pivot_ui(df[['bin_score','Zip Code']])"
   ]
  },
  {
   "cell_type": "code",
   "execution_count": null,
   "metadata": {
    "collapsed": true
   },
   "outputs": [],
   "source": []
  }
 ],
 "metadata": {
  "kernelspec": {
   "display_name": "Python 3",
   "language": "python",
   "name": "python3"
  },
  "language_info": {
   "codemirror_mode": {
    "name": "ipython",
    "version": 3
   },
   "file_extension": ".py",
   "mimetype": "text/x-python",
   "name": "python",
   "nbconvert_exporter": "python",
   "pygments_lexer": "ipython3",
   "version": "3.6.0"
  }
 },
 "nbformat": 4,
 "nbformat_minor": 2
}
